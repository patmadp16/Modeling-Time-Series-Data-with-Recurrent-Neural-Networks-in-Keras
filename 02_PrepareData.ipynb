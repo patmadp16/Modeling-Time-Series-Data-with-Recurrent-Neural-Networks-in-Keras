{
  "nbformat": 4,
  "nbformat_minor": 0,
  "metadata": {
    "kernelspec": {
      "display_name": "Python 3",
      "language": "python",
      "name": "python3"
    },
    "language_info": {
      "codemirror_mode": {
        "name": "ipython",
        "version": 3
      },
      "file_extension": ".py",
      "mimetype": "text/x-python",
      "name": "python",
      "nbconvert_exporter": "python",
      "pygments_lexer": "ipython3",
      "version": "3.6.9"
    },
    "colab": {
      "name": "02_PrepareData.ipynb",
      "provenance": [],
      "include_colab_link": true
    }
  },
  "cells": [
    {
      "cell_type": "markdown",
      "metadata": {
        "id": "view-in-github",
        "colab_type": "text"
      },
      "source": [
        "<a href=\"https://colab.research.google.com/github/patmadp16/Modeling-Time-Series-Data-with-Recurrent-Neural-Networks-in-Keras/blob/main/02_PrepareData.ipynb\" target=\"_parent\"><img src=\"https://colab.research.google.com/assets/colab-badge.svg\" alt=\"Open In Colab\"/></a>"
      ]
    },
    {
      "cell_type": "markdown",
      "metadata": {
        "id": "GB9a7a6k5yl0"
      },
      "source": [
        "<a href=\"https://www.nvidia.com/dli\"> <img src=\"images/DLI Header.png\" alt=\"Header\" style=\"width: 400px;\"/> </a>"
      ]
    },
    {
      "cell_type": "markdown",
      "metadata": {
        "id": "THzTmU7s5yl_"
      },
      "source": [
        "<a name=\"02_prepare\"></a>\n",
        "# 2. Prepare the Data with *pandas* and *NumPy*\n",
        "<hr>"
      ]
    },
    {
      "cell_type": "markdown",
      "metadata": {
        "id": "_UbjLR025ymA"
      },
      "source": [
        "The initial data, in its raw form, includes variabilities that will become problematic when we process it through a model to find patterns.  The variabilities in the data that we want to mitigate are:\n",
        "\n",
        "* Measurement values have widely varying ranges that require normalization\n",
        "* Not every measurement is taken during every observation, resulting in data gaps\n",
        "* The number of observations per encounter varies widely\n",
        "\n",
        "In this notebook, we will introduce techniques to address these concerns and prepare the data for training. "
      ]
    },
    {
      "cell_type": "markdown",
      "metadata": {
        "id": "O0_n76vs5ymB"
      },
      "source": [
        "2.1 [**Normalize the Data**](#02_normalize)<br>\n",
        "2.2 [**Fill Data Gaps**](#02_gaps)<br>\n",
        "2.3 [**Pad Variable Length Sequences**](#02_pad)<br>\n",
        "&nbsp; &nbsp; &nbsp;2.3.1 [Exercise: Padded Variable over all Patient Encounters](#02_ex_pad)<br>\n",
        "2.4 [**Save a *NumPy* Array**](#02_save)<br>\n",
        "[**Solutions**](#02_solutions)<br>"
      ]
    },
    {
      "cell_type": "markdown",
      "metadata": {
        "id": "6Ec9gKy95ymC"
      },
      "source": [
        "First, import the libraries for the new notebook, this time including _Keras_, our deep learning framework.  We also need to reload the data saved at the end of the previous notebook as `.pkl` (pickle) files."
      ]
    },
    {
      "cell_type": "code",
      "metadata": {
        "id": "ARkF71AE5ymD"
      },
      "source": [
        "import os\n",
        "import numpy as np          \n",
        "import pandas as pd              \n",
        "import matplotlib.pyplot as plt  \n",
        "import random\n",
        "import tensorflow.keras as keras\n",
        "\n",
        "# configure notebook to display plots\n",
        "%matplotlib inline\n",
        "\n",
        "# set up user paths\n",
        "data_dir = '/dli/task/data/hx_series'\n",
        "csv_dir = '/dli/task/csv'"
      ],
      "execution_count": null,
      "outputs": []
    },
    {
      "cell_type": "code",
      "metadata": {
        "id": "vbNJ-BWX5ymG"
      },
      "source": [
        "# Fetch the DataFrame's loaded in the problem setup\n",
        "X_train=pd.read_pickle('X_train.pkl')\n",
        "y_train=pd.read_pickle('y_train.pkl')\n",
        "X_valid=pd.read_pickle('X_valid.pkl')\n",
        "y_valid=pd.read_pickle('y_valid.pkl')"
      ],
      "execution_count": null,
      "outputs": []
    },
    {
      "cell_type": "markdown",
      "metadata": {
        "id": "AooGE_Fk5ymH"
      },
      "source": [
        "<a name=\"02_normalize\"></a>\n",
        "## 2.1 Normalize the Data\n",
        "We normalize each observed feature / variable by subtracting its mean and dividing the result by the standard deviation.  \n",
        "\n",
        "Why?\n",
        "\n",
        "We want small variations in one variable to be treated with the same emphasis as HUGE variations of another. Keep in mind that the network just sees a bunch of numbers - it doesn't actually \"know\" anything about predictors, factors, variables, obervations and so on and so forth. Emperically, normalization seems to facilitate training but this kind of normalization is probably not appropriate for multimodal data (or non-Gaussian data in general).\n",
        "\n",
        "Lets take a look at both before and after normalization of a single encounter example:"
      ]
    },
    {
      "cell_type": "code",
      "metadata": {
        "id": "sTx1VoA75ymJ",
        "outputId": "877b2ebb-b48b-480c-983f-f15653c7e591"
      },
      "source": [
        "# Before normalization\n",
        "X_train.loc[8,['Age','Heart rate (bpm)','PulseOximetry','Weight',\n",
        "    'SystolicBP','DiastolicBP','Respiratory rate (bpm)',\n",
        "    'MotorResponse','Capillary refill rate (sec)']]"
      ],
      "execution_count": null,
      "outputs": [
        {
          "data": {
            "text/html": [
              "<div>\n",
              "<style scoped>\n",
              "    .dataframe tbody tr th:only-of-type {\n",
              "        vertical-align: middle;\n",
              "    }\n",
              "\n",
              "    .dataframe tbody tr th {\n",
              "        vertical-align: top;\n",
              "    }\n",
              "\n",
              "    .dataframe thead th {\n",
              "        text-align: right;\n",
              "    }\n",
              "</style>\n",
              "<table border=\"1\" class=\"dataframe\">\n",
              "  <thead>\n",
              "    <tr style=\"text-align: right;\">\n",
              "      <th></th>\n",
              "      <th>Age</th>\n",
              "      <th>Heart rate (bpm)</th>\n",
              "      <th>PulseOximetry</th>\n",
              "      <th>Weight</th>\n",
              "      <th>SystolicBP</th>\n",
              "      <th>DiastolicBP</th>\n",
              "      <th>Respiratory rate (bpm)</th>\n",
              "      <th>MotorResponse</th>\n",
              "      <th>Capillary refill rate (sec)</th>\n",
              "    </tr>\n",
              "    <tr>\n",
              "      <th>absoluteTime</th>\n",
              "      <th></th>\n",
              "      <th></th>\n",
              "      <th></th>\n",
              "      <th></th>\n",
              "      <th></th>\n",
              "      <th></th>\n",
              "      <th></th>\n",
              "      <th></th>\n",
              "      <th></th>\n",
              "    </tr>\n",
              "  </thead>\n",
              "  <tbody>\n",
              "    <tr>\n",
              "      <th>0.000000</th>\n",
              "      <td>7.573383</td>\n",
              "      <td>107.0</td>\n",
              "      <td>100.0</td>\n",
              "      <td>25.0</td>\n",
              "      <td>NaN</td>\n",
              "      <td>NaN</td>\n",
              "      <td>19.0</td>\n",
              "      <td>NaN</td>\n",
              "      <td>NaN</td>\n",
              "    </tr>\n",
              "    <tr>\n",
              "      <th>0.250000</th>\n",
              "      <td>7.573411</td>\n",
              "      <td>98.0</td>\n",
              "      <td>100.0</td>\n",
              "      <td>NaN</td>\n",
              "      <td>NaN</td>\n",
              "      <td>NaN</td>\n",
              "      <td>31.0</td>\n",
              "      <td>NaN</td>\n",
              "      <td>NaN</td>\n",
              "    </tr>\n",
              "    <tr>\n",
              "      <th>0.500000</th>\n",
              "      <td>7.573440</td>\n",
              "      <td>NaN</td>\n",
              "      <td>NaN</td>\n",
              "      <td>NaN</td>\n",
              "      <td>NaN</td>\n",
              "      <td>NaN</td>\n",
              "      <td>NaN</td>\n",
              "      <td>NaN</td>\n",
              "      <td>NaN</td>\n",
              "    </tr>\n",
              "    <tr>\n",
              "      <th>0.583333</th>\n",
              "      <td>7.573450</td>\n",
              "      <td>NaN</td>\n",
              "      <td>NaN</td>\n",
              "      <td>NaN</td>\n",
              "      <td>NaN</td>\n",
              "      <td>NaN</td>\n",
              "      <td>NaN</td>\n",
              "      <td>NaN</td>\n",
              "      <td>NaN</td>\n",
              "    </tr>\n",
              "    <tr>\n",
              "      <th>0.750000</th>\n",
              "      <td>7.573468</td>\n",
              "      <td>103.0</td>\n",
              "      <td>100.0</td>\n",
              "      <td>NaN</td>\n",
              "      <td>130.0</td>\n",
              "      <td>92.0</td>\n",
              "      <td>37.0</td>\n",
              "      <td>6.0</td>\n",
              "      <td>3.0</td>\n",
              "    </tr>\n",
              "    <tr>\n",
              "      <th>...</th>\n",
              "      <td>...</td>\n",
              "      <td>...</td>\n",
              "      <td>...</td>\n",
              "      <td>...</td>\n",
              "      <td>...</td>\n",
              "      <td>...</td>\n",
              "      <td>...</td>\n",
              "      <td>...</td>\n",
              "      <td>...</td>\n",
              "    </tr>\n",
              "    <tr>\n",
              "      <th>150.500000</th>\n",
              "      <td>7.590551</td>\n",
              "      <td>NaN</td>\n",
              "      <td>NaN</td>\n",
              "      <td>NaN</td>\n",
              "      <td>NaN</td>\n",
              "      <td>NaN</td>\n",
              "      <td>NaN</td>\n",
              "      <td>NaN</td>\n",
              "      <td>NaN</td>\n",
              "    </tr>\n",
              "    <tr>\n",
              "      <th>150.750000</th>\n",
              "      <td>7.590580</td>\n",
              "      <td>94.0</td>\n",
              "      <td>100.0</td>\n",
              "      <td>25.0</td>\n",
              "      <td>121.0</td>\n",
              "      <td>88.0</td>\n",
              "      <td>14.0</td>\n",
              "      <td>6.0</td>\n",
              "      <td>2.0</td>\n",
              "    </tr>\n",
              "    <tr>\n",
              "      <th>150.766663</th>\n",
              "      <td>7.590582</td>\n",
              "      <td>NaN</td>\n",
              "      <td>NaN</td>\n",
              "      <td>NaN</td>\n",
              "      <td>NaN</td>\n",
              "      <td>NaN</td>\n",
              "      <td>NaN</td>\n",
              "      <td>NaN</td>\n",
              "      <td>NaN</td>\n",
              "    </tr>\n",
              "    <tr>\n",
              "      <th>151.000000</th>\n",
              "      <td>7.590609</td>\n",
              "      <td>NaN</td>\n",
              "      <td>NaN</td>\n",
              "      <td>NaN</td>\n",
              "      <td>NaN</td>\n",
              "      <td>NaN</td>\n",
              "      <td>NaN</td>\n",
              "      <td>NaN</td>\n",
              "      <td>NaN</td>\n",
              "    </tr>\n",
              "    <tr>\n",
              "      <th>151.416672</th>\n",
              "      <td>7.590656</td>\n",
              "      <td>NaN</td>\n",
              "      <td>88.0</td>\n",
              "      <td>NaN</td>\n",
              "      <td>126.0</td>\n",
              "      <td>86.0</td>\n",
              "      <td>NaN</td>\n",
              "      <td>NaN</td>\n",
              "      <td>NaN</td>\n",
              "    </tr>\n",
              "  </tbody>\n",
              "</table>\n",
              "<p>439 rows × 9 columns</p>\n",
              "</div>"
            ],
            "text/plain": [
              "                   Age  Heart rate (bpm)  PulseOximetry  Weight  SystolicBP  \\\n",
              "absoluteTime                                                                  \n",
              "0.000000      7.573383             107.0          100.0    25.0         NaN   \n",
              "0.250000      7.573411              98.0          100.0     NaN         NaN   \n",
              "0.500000      7.573440               NaN            NaN     NaN         NaN   \n",
              "0.583333      7.573450               NaN            NaN     NaN         NaN   \n",
              "0.750000      7.573468             103.0          100.0     NaN       130.0   \n",
              "...                ...               ...            ...     ...         ...   \n",
              "150.500000    7.590551               NaN            NaN     NaN         NaN   \n",
              "150.750000    7.590580              94.0          100.0    25.0       121.0   \n",
              "150.766663    7.590582               NaN            NaN     NaN         NaN   \n",
              "151.000000    7.590609               NaN            NaN     NaN         NaN   \n",
              "151.416672    7.590656               NaN           88.0     NaN       126.0   \n",
              "\n",
              "              DiastolicBP  Respiratory rate (bpm)  MotorResponse  \\\n",
              "absoluteTime                                                       \n",
              "0.000000              NaN                    19.0            NaN   \n",
              "0.250000              NaN                    31.0            NaN   \n",
              "0.500000              NaN                     NaN            NaN   \n",
              "0.583333              NaN                     NaN            NaN   \n",
              "0.750000             92.0                    37.0            6.0   \n",
              "...                   ...                     ...            ...   \n",
              "150.500000            NaN                     NaN            NaN   \n",
              "150.750000           88.0                    14.0            6.0   \n",
              "150.766663            NaN                     NaN            NaN   \n",
              "151.000000            NaN                     NaN            NaN   \n",
              "151.416672           86.0                     NaN            NaN   \n",
              "\n",
              "              Capillary refill rate (sec)  \n",
              "absoluteTime                               \n",
              "0.000000                              NaN  \n",
              "0.250000                              NaN  \n",
              "0.500000                              NaN  \n",
              "0.583333                              NaN  \n",
              "0.750000                              3.0  \n",
              "...                                   ...  \n",
              "150.500000                            NaN  \n",
              "150.750000                            2.0  \n",
              "150.766663                            NaN  \n",
              "151.000000                            NaN  \n",
              "151.416672                            NaN  \n",
              "\n",
              "[439 rows x 9 columns]"
            ]
          },
          "execution_count": 3,
          "metadata": {},
          "output_type": "execute_result"
        }
      ]
    },
    {
      "cell_type": "code",
      "metadata": {
        "scrolled": true,
        "id": "hY5Vulql5ymO"
      },
      "source": [
        "# create file path for csv file with metadata about variables\n",
        "metadata = os.path.join(csv_dir, 'ehr_features.csv')\n",
        "\n",
        "# read in variables from csv file (using pandas) since each varable there is tagged with a category\n",
        "variables = pd.read_csv(metadata, index_col=0)\n",
        "\n",
        "# next, select only variables of a particular category for normalization\n",
        "normvars = variables[variables['type'].isin(['Interventions', 'Labs', 'Vitals'])]\n",
        "\n",
        "# finally, iterate over each variable in both training and validation data\n",
        "for vId, dat in normvars.iterrows():\n",
        "    \n",
        "    X_train[vId] = X_train[vId] - dat['mean']\n",
        "    X_valid[vId] = X_valid[vId] - dat['mean']\n",
        "    X_train[vId] = X_train[vId] / (dat['std'] + 1e-12)\n",
        "    X_valid[vId] = X_valid[vId] / (dat['std'] + 1e-12)\n",
        "    "
      ],
      "execution_count": null,
      "outputs": []
    },
    {
      "cell_type": "markdown",
      "metadata": {
        "id": "IHnU3_b25ymQ"
      },
      "source": [
        "Take a quick look at some the updated data for a single encounter."
      ]
    },
    {
      "cell_type": "code",
      "metadata": {
        "id": "WHjnLonc5ymR",
        "outputId": "65515e06-f87b-4126-94cc-1b6a471c966a"
      },
      "source": [
        "# After normalization\n",
        "X_train.loc[8,['Age','Heart rate (bpm)','PulseOximetry','Weight',\n",
        "    'SystolicBP','DiastolicBP','Respiratory rate (bpm)',\n",
        "    'MotorResponse','Capillary refill rate (sec)']]"
      ],
      "execution_count": null,
      "outputs": [
        {
          "data": {
            "text/html": [
              "<div>\n",
              "<style scoped>\n",
              "    .dataframe tbody tr th:only-of-type {\n",
              "        vertical-align: middle;\n",
              "    }\n",
              "\n",
              "    .dataframe tbody tr th {\n",
              "        vertical-align: top;\n",
              "    }\n",
              "\n",
              "    .dataframe thead th {\n",
              "        text-align: right;\n",
              "    }\n",
              "</style>\n",
              "<table border=\"1\" class=\"dataframe\">\n",
              "  <thead>\n",
              "    <tr style=\"text-align: right;\">\n",
              "      <th></th>\n",
              "      <th>Age</th>\n",
              "      <th>Heart rate (bpm)</th>\n",
              "      <th>PulseOximetry</th>\n",
              "      <th>Weight</th>\n",
              "      <th>SystolicBP</th>\n",
              "      <th>DiastolicBP</th>\n",
              "      <th>Respiratory rate (bpm)</th>\n",
              "      <th>MotorResponse</th>\n",
              "      <th>Capillary refill rate (sec)</th>\n",
              "    </tr>\n",
              "    <tr>\n",
              "      <th>absoluteTime</th>\n",
              "      <th></th>\n",
              "      <th></th>\n",
              "      <th></th>\n",
              "      <th></th>\n",
              "      <th></th>\n",
              "      <th></th>\n",
              "      <th></th>\n",
              "      <th></th>\n",
              "      <th></th>\n",
              "    </tr>\n",
              "  </thead>\n",
              "  <tbody>\n",
              "    <tr>\n",
              "      <th>0.000000</th>\n",
              "      <td>7.573383</td>\n",
              "      <td>-0.429630</td>\n",
              "      <td>0.805317</td>\n",
              "      <td>-10.577633</td>\n",
              "      <td>NaN</td>\n",
              "      <td>NaN</td>\n",
              "      <td>-0.928604</td>\n",
              "      <td>NaN</td>\n",
              "      <td>NaN</td>\n",
              "    </tr>\n",
              "    <tr>\n",
              "      <th>0.250000</th>\n",
              "      <td>7.573411</td>\n",
              "      <td>-0.986894</td>\n",
              "      <td>0.805317</td>\n",
              "      <td>NaN</td>\n",
              "      <td>NaN</td>\n",
              "      <td>NaN</td>\n",
              "      <td>1.122353</td>\n",
              "      <td>NaN</td>\n",
              "      <td>NaN</td>\n",
              "    </tr>\n",
              "    <tr>\n",
              "      <th>0.500000</th>\n",
              "      <td>7.573440</td>\n",
              "      <td>NaN</td>\n",
              "      <td>NaN</td>\n",
              "      <td>NaN</td>\n",
              "      <td>NaN</td>\n",
              "      <td>NaN</td>\n",
              "      <td>NaN</td>\n",
              "      <td>NaN</td>\n",
              "      <td>NaN</td>\n",
              "    </tr>\n",
              "    <tr>\n",
              "      <th>0.583333</th>\n",
              "      <td>7.573450</td>\n",
              "      <td>NaN</td>\n",
              "      <td>NaN</td>\n",
              "      <td>NaN</td>\n",
              "      <td>NaN</td>\n",
              "      <td>NaN</td>\n",
              "      <td>NaN</td>\n",
              "      <td>NaN</td>\n",
              "      <td>NaN</td>\n",
              "    </tr>\n",
              "    <tr>\n",
              "      <th>0.750000</th>\n",
              "      <td>7.573468</td>\n",
              "      <td>-0.677303</td>\n",
              "      <td>0.805317</td>\n",
              "      <td>NaN</td>\n",
              "      <td>2.087398</td>\n",
              "      <td>3.242043</td>\n",
              "      <td>2.147832</td>\n",
              "      <td>1.240359</td>\n",
              "      <td>2.887591</td>\n",
              "    </tr>\n",
              "    <tr>\n",
              "      <th>...</th>\n",
              "      <td>...</td>\n",
              "      <td>...</td>\n",
              "      <td>...</td>\n",
              "      <td>...</td>\n",
              "      <td>...</td>\n",
              "      <td>...</td>\n",
              "      <td>...</td>\n",
              "      <td>...</td>\n",
              "      <td>...</td>\n",
              "    </tr>\n",
              "    <tr>\n",
              "      <th>150.500000</th>\n",
              "      <td>7.590551</td>\n",
              "      <td>NaN</td>\n",
              "      <td>NaN</td>\n",
              "      <td>NaN</td>\n",
              "      <td>NaN</td>\n",
              "      <td>NaN</td>\n",
              "      <td>NaN</td>\n",
              "      <td>NaN</td>\n",
              "      <td>NaN</td>\n",
              "    </tr>\n",
              "    <tr>\n",
              "      <th>150.750000</th>\n",
              "      <td>7.590580</td>\n",
              "      <td>-1.234567</td>\n",
              "      <td>0.805317</td>\n",
              "      <td>-10.577633</td>\n",
              "      <td>1.305183</td>\n",
              "      <td>2.874280</td>\n",
              "      <td>-1.783170</td>\n",
              "      <td>1.240359</td>\n",
              "      <td>-1.101130</td>\n",
              "    </tr>\n",
              "    <tr>\n",
              "      <th>150.766663</th>\n",
              "      <td>7.590582</td>\n",
              "      <td>NaN</td>\n",
              "      <td>NaN</td>\n",
              "      <td>NaN</td>\n",
              "      <td>NaN</td>\n",
              "      <td>NaN</td>\n",
              "      <td>NaN</td>\n",
              "      <td>NaN</td>\n",
              "      <td>NaN</td>\n",
              "    </tr>\n",
              "    <tr>\n",
              "      <th>151.000000</th>\n",
              "      <td>7.590609</td>\n",
              "      <td>NaN</td>\n",
              "      <td>NaN</td>\n",
              "      <td>NaN</td>\n",
              "      <td>NaN</td>\n",
              "      <td>NaN</td>\n",
              "      <td>NaN</td>\n",
              "      <td>NaN</td>\n",
              "      <td>NaN</td>\n",
              "    </tr>\n",
              "    <tr>\n",
              "      <th>151.416672</th>\n",
              "      <td>7.590656</td>\n",
              "      <td>NaN</td>\n",
              "      <td>-3.364875</td>\n",
              "      <td>NaN</td>\n",
              "      <td>1.739747</td>\n",
              "      <td>2.690398</td>\n",
              "      <td>NaN</td>\n",
              "      <td>NaN</td>\n",
              "      <td>NaN</td>\n",
              "    </tr>\n",
              "  </tbody>\n",
              "</table>\n",
              "<p>439 rows × 9 columns</p>\n",
              "</div>"
            ],
            "text/plain": [
              "                   Age  Heart rate (bpm)  PulseOximetry     Weight  \\\n",
              "absoluteTime                                                         \n",
              "0.000000      7.573383         -0.429630       0.805317 -10.577633   \n",
              "0.250000      7.573411         -0.986894       0.805317        NaN   \n",
              "0.500000      7.573440               NaN            NaN        NaN   \n",
              "0.583333      7.573450               NaN            NaN        NaN   \n",
              "0.750000      7.573468         -0.677303       0.805317        NaN   \n",
              "...                ...               ...            ...        ...   \n",
              "150.500000    7.590551               NaN            NaN        NaN   \n",
              "150.750000    7.590580         -1.234567       0.805317 -10.577633   \n",
              "150.766663    7.590582               NaN            NaN        NaN   \n",
              "151.000000    7.590609               NaN            NaN        NaN   \n",
              "151.416672    7.590656               NaN      -3.364875        NaN   \n",
              "\n",
              "              SystolicBP  DiastolicBP  Respiratory rate (bpm)  MotorResponse  \\\n",
              "absoluteTime                                                                   \n",
              "0.000000             NaN          NaN               -0.928604            NaN   \n",
              "0.250000             NaN          NaN                1.122353            NaN   \n",
              "0.500000             NaN          NaN                     NaN            NaN   \n",
              "0.583333             NaN          NaN                     NaN            NaN   \n",
              "0.750000        2.087398     3.242043                2.147832       1.240359   \n",
              "...                  ...          ...                     ...            ...   \n",
              "150.500000           NaN          NaN                     NaN            NaN   \n",
              "150.750000      1.305183     2.874280               -1.783170       1.240359   \n",
              "150.766663           NaN          NaN                     NaN            NaN   \n",
              "151.000000           NaN          NaN                     NaN            NaN   \n",
              "151.416672      1.739747     2.690398                     NaN            NaN   \n",
              "\n",
              "              Capillary refill rate (sec)  \n",
              "absoluteTime                               \n",
              "0.000000                              NaN  \n",
              "0.250000                              NaN  \n",
              "0.500000                              NaN  \n",
              "0.583333                              NaN  \n",
              "0.750000                         2.887591  \n",
              "...                                   ...  \n",
              "150.500000                            NaN  \n",
              "150.750000                      -1.101130  \n",
              "150.766663                            NaN  \n",
              "151.000000                            NaN  \n",
              "151.416672                            NaN  \n",
              "\n",
              "[439 rows x 9 columns]"
            ]
          },
          "execution_count": 5,
          "metadata": {},
          "output_type": "execute_result"
        }
      ]
    },
    {
      "cell_type": "markdown",
      "metadata": {
        "id": "6ZZI9XFa5ymS"
      },
      "source": [
        "<a name=\"02_gaps\"></a>\n",
        "## 2.2 Fill Data Gaps\n",
        "Having normalized the data, we still need to fill in all the data gaps since not every variable was observed during each observation in the patient encounter.  For example, lets take a look at the gaps in a \"Heart rate\" encounter by plotting it."
      ]
    },
    {
      "cell_type": "code",
      "metadata": {
        "id": "t3TCtASW5ymS",
        "outputId": "5df7289d-3f09-441e-8f3d-dc8d139dd51e"
      },
      "source": [
        "# Before filling gaps\n",
        "X_train.loc[8, \"Heart rate (bpm)\"].plot()\n",
        "plt.title(\"Normalized Not Filled\")\n",
        "plt.ylabel(\"Heart rate (bpm)\")\n",
        "plt.xlabel(\"Hours since first encounter\")\n",
        "plt.show()"
      ],
      "execution_count": null,
      "outputs": [
        {
          "data": {
            "image/png": "[encoded data removed]",
            "text/plain": [
              "<Figure size 432x288 with 1 Axes>"
            ]
          },
          "metadata": {
            "needs_background": "light"
          },
          "output_type": "display_data"
        }
      ]
    },
    {
      "cell_type": "markdown",
      "metadata": {
        "id": "MP4omojA5ymT"
      },
      "source": [
        "Filling in the gaps of missing data is a very active area of research and there is currently no standard practice for time series analysis using deep learning.  For this tutorial, we will simply forward fill existing measurements for each patient, and fill any variable entries with no previous measurement to 0 as illustrated below.\n",
        "\n",
        "<img src=\"images/imputation_diagram.svg\" width=\"800\" height=\"200\">"
      ]
    },
    {
      "cell_type": "code",
      "metadata": {
        "id": "dsiYAI-N5ymU"
      },
      "source": [
        "# first select variables which will be filled in\n",
        "fillvars = variables[variables['type'].isin(['Vitals', 'Labs'])].index\n",
        "\n",
        "# next forward fill any missing values with more recently observed value\n",
        "X_train[fillvars] = X_train.groupby(level=0)[fillvars].ffill()\n",
        "X_valid[fillvars] = X_valid.groupby(level=0)[fillvars].ffill()\n",
        "\n",
        "# finally, fill in any still missing values with 0 (i.e. values that could not be filled forward)\n",
        "X_train.fillna(value=0, inplace=True)\n",
        "X_valid.fillna(value=0, inplace=True)"
      ],
      "execution_count": null,
      "outputs": []
    },
    {
      "cell_type": "markdown",
      "metadata": {
        "id": "YiU4Y4CX5ymU"
      },
      "source": [
        "Now lets have a look at the \"Heart rate\" variable after data normalization and missing values have been filled in.|"
      ]
    },
    {
      "cell_type": "code",
      "metadata": {
        "id": "-hH7azIA5ymV",
        "outputId": "e5e77718-d0cf-4955-c124-188668f2859e"
      },
      "source": [
        "# After filling gaps\n",
        "X_train.loc[8, \"Heart rate (bpm)\"].plot()\n",
        "plt.title(\"Normalized and Filled\")\n",
        "plt.ylabel(\"Heart rate (bpm)\")\n",
        "plt.xlabel(\"Hours since first encounter\")\n",
        "plt.show()"
      ],
      "execution_count": null,
      "outputs": [
        {
          "data": {
            "image/png": "[encoded data removed]",
            "text/plain": [
              "<Figure size 432x288 with 1 Axes>"
            ]
          },
          "metadata": {
            "needs_background": "light"
          },
          "output_type": "display_data"
        }
      ]
    },
    {
      "cell_type": "markdown",
      "metadata": {
        "id": "fZ4u7EmP5ymV"
      },
      "source": [
        "Also, try dumping the X_train vector to the screen again and you will see that all those NaN values have been filled in with zeros."
      ]
    },
    {
      "cell_type": "code",
      "metadata": {
        "id": "XRdMLmLM5ymW",
        "outputId": "15dbd146-7c33-466c-c277-962072e653a8"
      },
      "source": [
        "X_train"
      ],
      "execution_count": null,
      "outputs": [
        {
          "data": {
            "text/html": [
              "<div>\n",
              "<style scoped>\n",
              "    .dataframe tbody tr th:only-of-type {\n",
              "        vertical-align: middle;\n",
              "    }\n",
              "\n",
              "    .dataframe tbody tr th {\n",
              "        vertical-align: top;\n",
              "    }\n",
              "\n",
              "    .dataframe thead th {\n",
              "        text-align: right;\n",
              "    }\n",
              "</style>\n",
              "<table border=\"1\" class=\"dataframe\">\n",
              "  <thead>\n",
              "    <tr style=\"text-align: right;\">\n",
              "      <th></th>\n",
              "      <th></th>\n",
              "      <th>ABG Base excess (mEq/L)</th>\n",
              "      <th>ABG FiO2</th>\n",
              "      <th>ABG HCO3 (mEq/L)</th>\n",
              "      <th>ABG O2 sat (%)</th>\n",
              "      <th>ABG PCO2 (mmHg)</th>\n",
              "      <th>ABG PO2 (mmHg)</th>\n",
              "      <th>ABG TCO2 (mEq/L)</th>\n",
              "      <th>ABG pH</th>\n",
              "      <th>ALT (SGPT) (units/L)</th>\n",
              "      <th>AST (SGOT) (units/L)</th>\n",
              "      <th>...</th>\n",
              "      <th>Vasopressin</th>\n",
              "      <th>Vecuronium</th>\n",
              "      <th>Ventilator rate (bpm)</th>\n",
              "      <th>VerbalResponse</th>\n",
              "      <th>Vitamin E</th>\n",
              "      <th>Volume Tidal</th>\n",
              "      <th>Voriconazole</th>\n",
              "      <th>Weight</th>\n",
              "      <th>White blood cell count (K/uL)</th>\n",
              "      <th>deltat</th>\n",
              "    </tr>\n",
              "    <tr>\n",
              "      <th>encounterID</th>\n",
              "      <th>absoluteTime</th>\n",
              "      <th></th>\n",
              "      <th></th>\n",
              "      <th></th>\n",
              "      <th></th>\n",
              "      <th></th>\n",
              "      <th></th>\n",
              "      <th></th>\n",
              "      <th></th>\n",
              "      <th></th>\n",
              "      <th></th>\n",
              "      <th></th>\n",
              "      <th></th>\n",
              "      <th></th>\n",
              "      <th></th>\n",
              "      <th></th>\n",
              "      <th></th>\n",
              "      <th></th>\n",
              "      <th></th>\n",
              "      <th></th>\n",
              "      <th></th>\n",
              "      <th></th>\n",
              "    </tr>\n",
              "  </thead>\n",
              "  <tbody>\n",
              "    <tr>\n",
              "      <th rowspan=\"5\" valign=\"top\">8</th>\n",
              "      <th>0.000000</th>\n",
              "      <td>0.000000</td>\n",
              "      <td>0.000000</td>\n",
              "      <td>0.000000</td>\n",
              "      <td>0.000000</td>\n",
              "      <td>0.000000</td>\n",
              "      <td>0.0000</td>\n",
              "      <td>0.000000</td>\n",
              "      <td>0.000000</td>\n",
              "      <td>0.0</td>\n",
              "      <td>0.0</td>\n",
              "      <td>...</td>\n",
              "      <td>0.0</td>\n",
              "      <td>0.0</td>\n",
              "      <td>0.0</td>\n",
              "      <td>0.000000</td>\n",
              "      <td>0.0</td>\n",
              "      <td>0.0</td>\n",
              "      <td>0.0</td>\n",
              "      <td>-10.577633</td>\n",
              "      <td>0.0</td>\n",
              "      <td>0.250000</td>\n",
              "    </tr>\n",
              "    <tr>\n",
              "      <th>0.250000</th>\n",
              "      <td>0.000000</td>\n",
              "      <td>0.000000</td>\n",
              "      <td>0.000000</td>\n",
              "      <td>0.000000</td>\n",
              "      <td>0.000000</td>\n",
              "      <td>0.0000</td>\n",
              "      <td>0.000000</td>\n",
              "      <td>0.000000</td>\n",
              "      <td>0.0</td>\n",
              "      <td>0.0</td>\n",
              "      <td>...</td>\n",
              "      <td>0.0</td>\n",
              "      <td>0.0</td>\n",
              "      <td>0.0</td>\n",
              "      <td>0.000000</td>\n",
              "      <td>0.0</td>\n",
              "      <td>0.0</td>\n",
              "      <td>0.0</td>\n",
              "      <td>-10.577633</td>\n",
              "      <td>0.0</td>\n",
              "      <td>0.250000</td>\n",
              "    </tr>\n",
              "    <tr>\n",
              "      <th>0.500000</th>\n",
              "      <td>0.000000</td>\n",
              "      <td>0.000000</td>\n",
              "      <td>0.000000</td>\n",
              "      <td>0.000000</td>\n",
              "      <td>0.000000</td>\n",
              "      <td>0.0000</td>\n",
              "      <td>0.000000</td>\n",
              "      <td>0.000000</td>\n",
              "      <td>0.0</td>\n",
              "      <td>0.0</td>\n",
              "      <td>...</td>\n",
              "      <td>0.0</td>\n",
              "      <td>0.0</td>\n",
              "      <td>0.0</td>\n",
              "      <td>0.000000</td>\n",
              "      <td>0.0</td>\n",
              "      <td>0.0</td>\n",
              "      <td>0.0</td>\n",
              "      <td>-10.577633</td>\n",
              "      <td>0.0</td>\n",
              "      <td>0.083333</td>\n",
              "    </tr>\n",
              "    <tr>\n",
              "      <th>0.583333</th>\n",
              "      <td>0.000000</td>\n",
              "      <td>0.000000</td>\n",
              "      <td>0.000000</td>\n",
              "      <td>0.000000</td>\n",
              "      <td>0.000000</td>\n",
              "      <td>0.0000</td>\n",
              "      <td>0.000000</td>\n",
              "      <td>0.000000</td>\n",
              "      <td>0.0</td>\n",
              "      <td>0.0</td>\n",
              "      <td>...</td>\n",
              "      <td>0.0</td>\n",
              "      <td>0.0</td>\n",
              "      <td>0.0</td>\n",
              "      <td>0.000000</td>\n",
              "      <td>0.0</td>\n",
              "      <td>0.0</td>\n",
              "      <td>0.0</td>\n",
              "      <td>-10.577633</td>\n",
              "      <td>0.0</td>\n",
              "      <td>0.166667</td>\n",
              "    </tr>\n",
              "    <tr>\n",
              "      <th>0.750000</th>\n",
              "      <td>0.000000</td>\n",
              "      <td>0.000000</td>\n",
              "      <td>0.000000</td>\n",
              "      <td>0.000000</td>\n",
              "      <td>0.000000</td>\n",
              "      <td>0.0000</td>\n",
              "      <td>0.000000</td>\n",
              "      <td>0.000000</td>\n",
              "      <td>0.0</td>\n",
              "      <td>0.0</td>\n",
              "      <td>...</td>\n",
              "      <td>0.0</td>\n",
              "      <td>0.0</td>\n",
              "      <td>0.0</td>\n",
              "      <td>2.075606</td>\n",
              "      <td>0.0</td>\n",
              "      <td>0.0</td>\n",
              "      <td>0.0</td>\n",
              "      <td>-10.577633</td>\n",
              "      <td>0.0</td>\n",
              "      <td>0.633333</td>\n",
              "    </tr>\n",
              "    <tr>\n",
              "      <th>...</th>\n",
              "      <th>...</th>\n",
              "      <td>...</td>\n",
              "      <td>...</td>\n",
              "      <td>...</td>\n",
              "      <td>...</td>\n",
              "      <td>...</td>\n",
              "      <td>...</td>\n",
              "      <td>...</td>\n",
              "      <td>...</td>\n",
              "      <td>...</td>\n",
              "      <td>...</td>\n",
              "      <td>...</td>\n",
              "      <td>...</td>\n",
              "      <td>...</td>\n",
              "      <td>...</td>\n",
              "      <td>...</td>\n",
              "      <td>...</td>\n",
              "      <td>...</td>\n",
              "      <td>...</td>\n",
              "      <td>...</td>\n",
              "      <td>...</td>\n",
              "      <td>...</td>\n",
              "    </tr>\n",
              "    <tr>\n",
              "      <th rowspan=\"5\" valign=\"top\">16259</th>\n",
              "      <th>87.000000</th>\n",
              "      <td>2.335037</td>\n",
              "      <td>-1.770313</td>\n",
              "      <td>2.569377</td>\n",
              "      <td>-2.668261</td>\n",
              "      <td>0.925765</td>\n",
              "      <td>-1.7796</td>\n",
              "      <td>2.385686</td>\n",
              "      <td>0.845536</td>\n",
              "      <td>0.0</td>\n",
              "      <td>0.0</td>\n",
              "      <td>...</td>\n",
              "      <td>0.0</td>\n",
              "      <td>0.0</td>\n",
              "      <td>0.0</td>\n",
              "      <td>-1.091416</td>\n",
              "      <td>0.0</td>\n",
              "      <td>0.0</td>\n",
              "      <td>0.0</td>\n",
              "      <td>-8.043209</td>\n",
              "      <td>0.0</td>\n",
              "      <td>0.083333</td>\n",
              "    </tr>\n",
              "    <tr>\n",
              "      <th>87.083336</th>\n",
              "      <td>2.335037</td>\n",
              "      <td>-1.770313</td>\n",
              "      <td>2.569377</td>\n",
              "      <td>-2.668261</td>\n",
              "      <td>0.925765</td>\n",
              "      <td>-1.7796</td>\n",
              "      <td>2.385686</td>\n",
              "      <td>0.845536</td>\n",
              "      <td>0.0</td>\n",
              "      <td>0.0</td>\n",
              "      <td>...</td>\n",
              "      <td>0.0</td>\n",
              "      <td>0.0</td>\n",
              "      <td>0.0</td>\n",
              "      <td>-1.091416</td>\n",
              "      <td>0.0</td>\n",
              "      <td>0.0</td>\n",
              "      <td>0.0</td>\n",
              "      <td>-8.043209</td>\n",
              "      <td>0.0</td>\n",
              "      <td>0.583333</td>\n",
              "    </tr>\n",
              "    <tr>\n",
              "      <th>87.666664</th>\n",
              "      <td>2.335037</td>\n",
              "      <td>-1.770313</td>\n",
              "      <td>2.569377</td>\n",
              "      <td>-2.668261</td>\n",
              "      <td>0.925765</td>\n",
              "      <td>-1.7796</td>\n",
              "      <td>2.385686</td>\n",
              "      <td>0.845536</td>\n",
              "      <td>0.0</td>\n",
              "      <td>0.0</td>\n",
              "      <td>...</td>\n",
              "      <td>0.0</td>\n",
              "      <td>0.0</td>\n",
              "      <td>0.0</td>\n",
              "      <td>-1.091416</td>\n",
              "      <td>0.0</td>\n",
              "      <td>0.0</td>\n",
              "      <td>0.0</td>\n",
              "      <td>-8.043209</td>\n",
              "      <td>0.0</td>\n",
              "      <td>0.333333</td>\n",
              "    </tr>\n",
              "    <tr>\n",
              "      <th>88.000000</th>\n",
              "      <td>2.335037</td>\n",
              "      <td>-1.770313</td>\n",
              "      <td>2.569377</td>\n",
              "      <td>-2.668261</td>\n",
              "      <td>0.925765</td>\n",
              "      <td>-1.7796</td>\n",
              "      <td>2.385686</td>\n",
              "      <td>0.845536</td>\n",
              "      <td>0.0</td>\n",
              "      <td>0.0</td>\n",
              "      <td>...</td>\n",
              "      <td>0.0</td>\n",
              "      <td>0.0</td>\n",
              "      <td>0.0</td>\n",
              "      <td>-1.091416</td>\n",
              "      <td>0.0</td>\n",
              "      <td>0.0</td>\n",
              "      <td>0.0</td>\n",
              "      <td>-8.043209</td>\n",
              "      <td>0.0</td>\n",
              "      <td>1.000000</td>\n",
              "    </tr>\n",
              "    <tr>\n",
              "      <th>89.000000</th>\n",
              "      <td>2.335037</td>\n",
              "      <td>-1.770313</td>\n",
              "      <td>2.569377</td>\n",
              "      <td>-2.668261</td>\n",
              "      <td>0.925765</td>\n",
              "      <td>-1.7796</td>\n",
              "      <td>2.385686</td>\n",
              "      <td>0.845536</td>\n",
              "      <td>0.0</td>\n",
              "      <td>0.0</td>\n",
              "      <td>...</td>\n",
              "      <td>0.0</td>\n",
              "      <td>0.0</td>\n",
              "      <td>0.0</td>\n",
              "      <td>-1.091416</td>\n",
              "      <td>0.0</td>\n",
              "      <td>0.0</td>\n",
              "      <td>0.0</td>\n",
              "      <td>-8.043209</td>\n",
              "      <td>0.0</td>\n",
              "      <td>0.000000</td>\n",
              "    </tr>\n",
              "  </tbody>\n",
              "</table>\n",
              "<p>1113529 rows × 265 columns</p>\n",
              "</div>"
            ],
            "text/plain": [
              "                          ABG Base excess (mEq/L)  ABG FiO2  ABG HCO3 (mEq/L)  \\\n",
              "encounterID absoluteTime                                                        \n",
              "8           0.000000                     0.000000  0.000000          0.000000   \n",
              "            0.250000                     0.000000  0.000000          0.000000   \n",
              "            0.500000                     0.000000  0.000000          0.000000   \n",
              "            0.583333                     0.000000  0.000000          0.000000   \n",
              "            0.750000                     0.000000  0.000000          0.000000   \n",
              "...                                           ...       ...               ...   \n",
              "16259       87.000000                    2.335037 -1.770313          2.569377   \n",
              "            87.083336                    2.335037 -1.770313          2.569377   \n",
              "            87.666664                    2.335037 -1.770313          2.569377   \n",
              "            88.000000                    2.335037 -1.770313          2.569377   \n",
              "            89.000000                    2.335037 -1.770313          2.569377   \n",
              "\n",
              "                          ABG O2 sat (%)  ABG PCO2 (mmHg)  ABG PO2 (mmHg)  \\\n",
              "encounterID absoluteTime                                                    \n",
              "8           0.000000            0.000000         0.000000          0.0000   \n",
              "            0.250000            0.000000         0.000000          0.0000   \n",
              "            0.500000            0.000000         0.000000          0.0000   \n",
              "            0.583333            0.000000         0.000000          0.0000   \n",
              "            0.750000            0.000000         0.000000          0.0000   \n",
              "...                                  ...              ...             ...   \n",
              "16259       87.000000          -2.668261         0.925765         -1.7796   \n",
              "            87.083336          -2.668261         0.925765         -1.7796   \n",
              "            87.666664          -2.668261         0.925765         -1.7796   \n",
              "            88.000000          -2.668261         0.925765         -1.7796   \n",
              "            89.000000          -2.668261         0.925765         -1.7796   \n",
              "\n",
              "                          ABG TCO2 (mEq/L)    ABG pH  ALT (SGPT) (units/L)  \\\n",
              "encounterID absoluteTime                                                     \n",
              "8           0.000000              0.000000  0.000000                   0.0   \n",
              "            0.250000              0.000000  0.000000                   0.0   \n",
              "            0.500000              0.000000  0.000000                   0.0   \n",
              "            0.583333              0.000000  0.000000                   0.0   \n",
              "            0.750000              0.000000  0.000000                   0.0   \n",
              "...                                    ...       ...                   ...   \n",
              "16259       87.000000             2.385686  0.845536                   0.0   \n",
              "            87.083336             2.385686  0.845536                   0.0   \n",
              "            87.666664             2.385686  0.845536                   0.0   \n",
              "            88.000000             2.385686  0.845536                   0.0   \n",
              "            89.000000             2.385686  0.845536                   0.0   \n",
              "\n",
              "                          AST (SGOT) (units/L)  ...  Vasopressin  Vecuronium  \\\n",
              "encounterID absoluteTime                        ...                            \n",
              "8           0.000000                       0.0  ...          0.0         0.0   \n",
              "            0.250000                       0.0  ...          0.0         0.0   \n",
              "            0.500000                       0.0  ...          0.0         0.0   \n",
              "            0.583333                       0.0  ...          0.0         0.0   \n",
              "            0.750000                       0.0  ...          0.0         0.0   \n",
              "...                                        ...  ...          ...         ...   \n",
              "16259       87.000000                      0.0  ...          0.0         0.0   \n",
              "            87.083336                      0.0  ...          0.0         0.0   \n",
              "            87.666664                      0.0  ...          0.0         0.0   \n",
              "            88.000000                      0.0  ...          0.0         0.0   \n",
              "            89.000000                      0.0  ...          0.0         0.0   \n",
              "\n",
              "                          Ventilator rate (bpm)  VerbalResponse  Vitamin E  \\\n",
              "encounterID absoluteTime                                                     \n",
              "8           0.000000                        0.0        0.000000        0.0   \n",
              "            0.250000                        0.0        0.000000        0.0   \n",
              "            0.500000                        0.0        0.000000        0.0   \n",
              "            0.583333                        0.0        0.000000        0.0   \n",
              "            0.750000                        0.0        2.075606        0.0   \n",
              "...                                         ...             ...        ...   \n",
              "16259       87.000000                       0.0       -1.091416        0.0   \n",
              "            87.083336                       0.0       -1.091416        0.0   \n",
              "            87.666664                       0.0       -1.091416        0.0   \n",
              "            88.000000                       0.0       -1.091416        0.0   \n",
              "            89.000000                       0.0       -1.091416        0.0   \n",
              "\n",
              "                          Volume Tidal  Voriconazole     Weight  \\\n",
              "encounterID absoluteTime                                          \n",
              "8           0.000000               0.0           0.0 -10.577633   \n",
              "            0.250000               0.0           0.0 -10.577633   \n",
              "            0.500000               0.0           0.0 -10.577633   \n",
              "            0.583333               0.0           0.0 -10.577633   \n",
              "            0.750000               0.0           0.0 -10.577633   \n",
              "...                                ...           ...        ...   \n",
              "16259       87.000000              0.0           0.0  -8.043209   \n",
              "            87.083336              0.0           0.0  -8.043209   \n",
              "            87.666664              0.0           0.0  -8.043209   \n",
              "            88.000000              0.0           0.0  -8.043209   \n",
              "            89.000000              0.0           0.0  -8.043209   \n",
              "\n",
              "                          White blood cell count (K/uL)    deltat  \n",
              "encounterID absoluteTime                                           \n",
              "8           0.000000                                0.0  0.250000  \n",
              "            0.250000                                0.0  0.250000  \n",
              "            0.500000                                0.0  0.083333  \n",
              "            0.583333                                0.0  0.166667  \n",
              "            0.750000                                0.0  0.633333  \n",
              "...                                                 ...       ...  \n",
              "16259       87.000000                               0.0  0.083333  \n",
              "            87.083336                               0.0  0.583333  \n",
              "            87.666664                               0.0  0.333333  \n",
              "            88.000000                               0.0  1.000000  \n",
              "            89.000000                               0.0  0.000000  \n",
              "\n",
              "[1113529 rows x 265 columns]"
            ]
          },
          "execution_count": 9,
          "metadata": {},
          "output_type": "execute_result"
        }
      ]
    },
    {
      "cell_type": "markdown",
      "metadata": {
        "id": "VnnhYVxm5ymW"
      },
      "source": [
        "One more thing to note, is that so far we've kept the data set as a _pandas_ DataFrame type.  In the next part, we will change it to a _NumPy_ array.  You can check this as follows:"
      ]
    },
    {
      "cell_type": "code",
      "metadata": {
        "id": "Bz4_fhv75ymX",
        "outputId": "a21256da-ad9d-43bf-98be-844d2e96d0e9"
      },
      "source": [
        "type(X_train)"
      ],
      "execution_count": null,
      "outputs": [
        {
          "data": {
            "text/plain": [
              "pandas.core.frame.DataFrame"
            ]
          },
          "execution_count": 10,
          "metadata": {},
          "output_type": "execute_result"
        }
      ]
    },
    {
      "cell_type": "markdown",
      "metadata": {
        "id": "9YKdlOUG5ymX"
      },
      "source": [
        "<a name=\"02_pad\"></a>\n",
        "## 2.3 Pad Variable Length Sequences\n",
        "<img style=\"float: right;\" src=\"images/nobs_hist.png\" width=\"400\">\n",
        "<br>\n",
        "The final data preparation task is to pad every patient encounter so that all encounters have the same number of observations. \n",
        "Note from the histogram, that there are many encounters with less than 100 observation vectors. Therefore, we are going to zero pad each encounter (i.e. insert rows of zeros)."
      ]
    },
    {
      "cell_type": "code",
      "metadata": {
        "scrolled": true,
        "id": "2JICyGZz5ymY"
      },
      "source": [
        "from tensorflow.keras.preprocessing import sequence\n",
        "\n",
        "# max number of sequence length\n",
        "maxlen = 500\n",
        "\n",
        "# get a list of unique patient encounter IDs\n",
        "teId = X_train.index.levels[0]\n",
        "veId = X_valid.index.levels[0]\n",
        "\n",
        "# pad every patient sequence with 0s to be the same length, \n",
        "# then transforms the list of sequences to one numpy array\n",
        "# this is for efficient minibatching and GPU computations \n",
        "X_train = [X_train.loc[patient].values for patient in teId]\n",
        "y_train = [y_train.loc[patient].values for patient in teId]\n",
        "\n",
        "X_train = sequence.pad_sequences(X_train, dtype='float32', maxlen=maxlen, padding='post', truncating='post')\n",
        "y_train = sequence.pad_sequences(y_train, dtype='float32', maxlen=maxlen, padding='post', truncating='post')\n",
        "\n",
        "# repeat for the validation data\n",
        "\n",
        "X_valid = [X_valid.loc[patient].values for patient in veId]\n",
        "y_valid = [y_valid.loc[patient].values for patient in veId]\n",
        "\n",
        "X_valid = sequence.pad_sequences(X_valid, dtype='float32', maxlen=maxlen, padding='post', truncating='post')\n",
        "y_valid = sequence.pad_sequences(y_valid, dtype='float32', maxlen=maxlen, padding='post', truncating='post')"
      ],
      "execution_count": null,
      "outputs": []
    },
    {
      "cell_type": "markdown",
      "metadata": {
        "id": "iigveSZt5ymY"
      },
      "source": [
        "Okay, a lot just happened here:  \n",
        "\n",
        "1. We converted the _pandas_ DataFrame into a Python list, which contained lists of values (a list of list of values).  \n",
        "2. Using  `keras.preprocessing.sequence.pad_sequences`, we converted the value lists into a `numpy.array` of type `float32`, having a maximum length of 500.  \n",
        "3. If the patient encounter didn't have 500 encounters (most don't, see previous histogram) then we apply `padding='post'`, which says to pad with zeros.  That is, add extra rows (observation vectors) of all zeros.\n",
        "4. The option `truncating='post'` just says: if there are more than 500 observations, then take the first 500 and drop everything after.  \n",
        "\n",
        "Together, this says: **force patient encounter records of dimension 500x265 and use zero padding to inflate the size if needed**.  We could do something similar in _pandas_ but not as succinctly. This only requires a single command using _NumPy_."
      ]
    },
    {
      "cell_type": "code",
      "metadata": {
        "id": "RUn1Mmqj5ymZ",
        "outputId": "51d97b34-5bdb-4ba9-d04f-e4455a1dc386"
      },
      "source": [
        "# print the shape of the array which will be used by the network\n",
        "# the shape is of the form (# of encounters, length of sequence, # of features)\n",
        "print(\"X_train shape: %s | y_train shape: %s\" % (str(X_train.shape), str(y_train.shape)))\n",
        "print(\"X_valid shape: %s | y_valid shape: %s\" % (str(X_valid.shape), str(y_valid.shape)))"
      ],
      "execution_count": null,
      "outputs": [
        {
          "name": "stdout",
          "output_type": "stream",
          "text": [
            "X_train shape: (5000, 500, 265) | y_train shape: (5000, 500, 1)\n",
            "X_valid shape: (2690, 500, 265) | y_valid shape: (2690, 500, 1)\n"
          ]
        }
      ]
    },
    {
      "cell_type": "markdown",
      "metadata": {
        "id": "-HjzHqjX5ymZ"
      },
      "source": [
        "Note that the type of X_train has changed to ```numpy.ndarray```:"
      ]
    },
    {
      "cell_type": "code",
      "metadata": {
        "id": "J1l_aAua5yma",
        "outputId": "df60a692-3741-4b26-a7c6-36eb7bf5fc78"
      },
      "source": [
        "type(X_train)"
      ],
      "execution_count": null,
      "outputs": [
        {
          "data": {
            "text/plain": [
              "numpy.ndarray"
            ]
          },
          "execution_count": 13,
          "metadata": {},
          "output_type": "execute_result"
        }
      ]
    },
    {
      "cell_type": "markdown",
      "metadata": {
        "id": "4fzUwHEY5yma"
      },
      "source": [
        "Now we can plot the full patient encounter as a matrix plot.  Try a few times to get a feel for what the charts look like."
      ]
    },
    {
      "cell_type": "code",
      "metadata": {
        "id": "lfszWBMa5yma",
        "outputId": "bc6157e2-499c-45f3-adc7-96da4a1581d7"
      },
      "source": [
        "# figure out how many encounters we have\n",
        "numencnt = X_train.shape[0]\n",
        "\n",
        "# choose a random patient encounter to plot\n",
        "ix = random.randint(0,5000) #Try a few different index values between 0 and 4999\n",
        "print('ix = {}'.format(ix))\n",
        "\n",
        "# plot a matrix of observation values\n",
        "plt.title(\"Patient Encounter Matrix\")\n",
        "plt.pcolor(np.transpose(X_train[ix,:,:]))\n",
        "plt.ylabel(\"variable\")\n",
        "plt.xlabel(\"time/observation\")\n",
        "plt.ylim(0,265)\n",
        "plt.colorbar()\n",
        "plt.show()"
      ],
      "execution_count": null,
      "outputs": [
        {
          "name": "stdout",
          "output_type": "stream",
          "text": [
            "ix = 4184\n"
          ]
        },
        {
          "data": {
            "image/png": "[encoded data removed]",
            "text/plain": [
              "<Figure size 432x288 with 2 Axes>"
            ]
          },
          "metadata": {
            "needs_background": "light"
          },
          "output_type": "display_data"
        }
      ]
    },
    {
      "cell_type": "markdown",
      "metadata": {
        "id": "1T8E1Rwq5ymb"
      },
      "source": [
        "Keep in mind here that these data are zero padded by ```sequence.pad_sequences```.  Try a few different index values between 0 and 4999 to get a feel for what the matrix plots look like. These matricies are what will be fed as input into the LSTM model for training. Notice that we can plot a variable in a similar fashion by selecting along the third axis instead of the first axis. This provides a view of a particular variable over all patient encounters. Give it a try!"
      ]
    },
    {
      "cell_type": "markdown",
      "metadata": {
        "id": "fwVFy7si5ymc"
      },
      "source": [
        "<a name='02_ex_pad'></a>\n",
        "### 2.3.1 Exercise: Padded Variable over all Patient Encounters"
      ]
    },
    {
      "cell_type": "markdown",
      "metadata": {
        "id": "9KGWugqA5ymd"
      },
      "source": [
        "Visualize a particular variable across all encounters with the following steps.  You can also check the [solution](#02_sol_pad) if you wish.\n",
        "1. Choose a variable to examine from [ehr_features.csv](csv/ehr_features.csv)\n",
        "2. Create a matrix of encounters vs time/observation\n",
        "3. Plot the matrix"
      ]
    },
    {
      "cell_type": "code",
      "metadata": {
        "id": "0kBl93Ze5ymd"
      },
      "source": [
        "# TODO Step 1 set the variable value (feature number)\n",
        "varnum = 255 #FIXME  (any number between 0 and 264, inclusive)\n",
        "\n",
        "# TODO Step 2 Create a matrix of encounters vs time/observation\n",
        "# Hint: Select along the 3rd axis\n",
        "varmatrix = np.transpose(X_train[:,:,varnum])  #FIXME\n",
        "\n",
        "# Step 3 Plot the matrix\n",
        "try:\n",
        "    plt.title(\"Variable Matrix\")\n",
        "    plt.pcolor(varmatrix) \n",
        "    plt.ylabel(\"time/observation\")\n",
        "    plt.xlabel(\"encounter\")\n",
        "    plt.ylim(0,600)\n",
        "    plt.colorbar()\n",
        "    plt.show()\n",
        "except Exception as e:\n",
        "    print('ERROR found: {}'.format(e))"
      ],
      "execution_count": null,
      "outputs": []
    },
    {
      "cell_type": "markdown",
      "metadata": {
        "id": "sDmtA10k5ymd"
      },
      "source": [
        "<a name=\"02_save\"></a>\n",
        "## 2.4 Save a *NumPy* Arrays"
      ]
    },
    {
      "cell_type": "markdown",
      "metadata": {
        "id": "F5yXXUDs5yme"
      },
      "source": [
        "Before moving to the next notebook, save the *NumPy* arrays to reload into the next notebook."
      ]
    },
    {
      "cell_type": "code",
      "metadata": {
        "id": "sDWzToa65yme"
      },
      "source": [
        "# Save the prepared numpy arrays for use in other notebooks\n",
        "np.save('X_train_prepared.npy',X_train,allow_pickle=False)\n",
        "np.save('y_train_prepared.npy',y_train,allow_pickle=False)\n",
        "np.save('X_valid_prepared.npy',X_valid,allow_pickle=False)\n",
        "np.save('y_valid_prepared.npy',y_valid,allow_pickle=False)"
      ],
      "execution_count": null,
      "outputs": []
    },
    {
      "cell_type": "markdown",
      "metadata": {
        "id": "zwNgBDRP5ymf"
      },
      "source": [
        "<font color='green' size=10>Excellent work!</font><br>\n",
        "Now that we've prepared the data, we'll build and train our model.  Move on to the [next notebook](03_BuildModel.ipynb)."
      ]
    },
    {
      "cell_type": "markdown",
      "metadata": {
        "id": "BVhcf03M5ymf"
      },
      "source": [
        "<img src=\"images/DLI Header.png\" alt=\"Header\" style=\"width: 400px;\"/>\n",
        "\n",
        "<hr>"
      ]
    },
    {
      "cell_type": "markdown",
      "metadata": {
        "id": "5vbd0DYI5ymf"
      },
      "source": [
        "<a name='02_solutions'></a>\n",
        "# Solutions\n",
        "<a name='02_sol_pad'></a>\n",
        "### 2.3.1 Exercise: Padded Variable over all Patient Encounters \n",
        "[Jump back to Exercise 2.3.1](#02_ex_pad)"
      ]
    },
    {
      "cell_type": "code",
      "metadata": {
        "id": "fFspI27l5ymf"
      },
      "source": [
        "# TODO Step 1 set the variable value (feature number)\n",
        "varnum = 115 #FIXME  (any number between 0 and 264, inclusive)\n",
        "\n",
        "# TODO Step 2 Create a matrix of encounters vs time/observation\n",
        "# Hint: Select along the 3rd axis\n",
        "varmatrix = np.transpose(X_train[:,:,varnum])  #FIXME\n",
        "\n",
        "# Step 3 Plot the matrix\n",
        "try:\n",
        "    plt.title(\"Variable Matrix\")\n",
        "    plt.pcolor(varmatrix) \n",
        "    plt.ylabel(\"time/observation\")\n",
        "    plt.xlabel(\"encounter\")\n",
        "    plt.ylim(0,600)\n",
        "    plt.colorbar()\n",
        "    plt.show()\n",
        "except Exception as e:\n",
        "    print('ERROR found: {}'.format(e))"
      ],
      "execution_count": null,
      "outputs": []
    }
  ]
}